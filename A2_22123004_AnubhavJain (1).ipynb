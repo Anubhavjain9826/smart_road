{
 "cells": [
  {
   "cell_type": "markdown",
   "id": "9281d17d",
   "metadata": {},
   "source": [
    "# ASSIGNMENT-2 , ANUBHAV JAIN(22123004)\n"
   ]
  },
  {
   "cell_type": "code",
   "execution_count": 1,
   "id": "472584ad",
   "metadata": {},
   "outputs": [],
   "source": [
    "# IMPORTING LIBRARIES\n",
    "import numpy as np\n",
    "import pandas as pd\n",
    "import matplotlib.pyplot as plt\n",
    "import seaborn as sns\n",
    "import os\n",
    "from PIL import Image"
   ]
  },
  {
   "cell_type": "code",
   "execution_count": 2,
   "id": "ae391c91",
   "metadata": {},
   "outputs": [],
   "source": [
    "# IMPORTING CRACKED DATA\n",
    "data_1=os.listdir('C:\\\\Users\\\\ANUBHAV\\\\Desktop\\\\ASSIGNMENT_DATA\\\\train\\\\cracked')   \n",
    "#IMPORTING UNCRACKED DATA\n",
    "data_2=os.listdir('C:\\\\Users\\\\ANUBHAV\\\\Desktop\\\\ASSIGNMENT_DATA\\\\train\\\\uncracked') \n"
   ]
  },
  {
   "cell_type": "code",
   "execution_count": null,
   "id": "c6cd71f0",
   "metadata": {},
   "outputs": [],
   "source": [
    "#CONVERTING THE IMAGE DATA OF CRACKRD AND UNCRACKED FILES INTO 50*50 PIXEL SIZE IN GREYSCALE"
   ]
  },
  {
   "cell_type": "code",
   "execution_count": 3,
   "id": "0f7df3a0",
   "metadata": {},
   "outputs": [],
   "source": [
    "\n",
    "from PIL import Image\n",
    "\n",
    "# Set the source directory for the images and the output CSV file path\n",
    "source_dir = 'C:\\\\Users\\\\ANUBHAV\\\\Desktop\\\\ASSIGNMENT_DATA\\\\train\\\\uncracked'\n",
    "output_path = 'C:\\\\Users\\\\ANUBHAV\\\\Desktop\\\\ASSIGNMENT_DATA\\\\anubhav\\\\uncraracked.csv'\n",
    "\n",
    "\n",
    "data = []\n",
    "\n",
    "# Loop over the image files in the directory\n",
    "for file_name in os.listdir(source_dir):\n",
    "    # Open the image and resize it to 50*50 pixels\n",
    "    image = Image.open(os.path.join(source_dir, file_name)).convert('L')\n",
    "\n",
    "    # Convert  to grayscale\n",
    "    gray_image = image.resize((50,50))\n",
    "\n",
    "\n",
    "    # Convert the image to a numpy array and flatten it to a 1D array\n",
    "    pixels = np.array(gray_image).flatten()\n",
    "    # Add the flattened array to the list\n",
    "    data.append(pixels)\n",
    "\n",
    "# Create a pandas dataframe \n",
    "df = pd.DataFrame(data)\n",
    "df.insert(0,'label','uncracked')\n",
    "\n",
    "# Save  to a CSV file\n",
    "df.to_csv(output_path, index=False)\n"
   ]
  },
  {
   "cell_type": "code",
   "execution_count": 5,
   "id": "45007e0e",
   "metadata": {},
   "outputs": [],
   "source": [
    "\n",
    "from PIL import Image\n",
    "\n",
    "# Set the source directory for the images and the output CSV file path\n",
    "source_dir = 'C:\\\\Users\\\\ANUBHAV\\\\Desktop\\\\ASSIGNMENT_DATA\\\\train\\\\cracked'\n",
    "output_path = 'C:\\\\Users\\\\ANUBHAV\\\\Desktop\\\\ASSIGNMENT_DATA\\\\anubhav\\\\cracked.csv'\n",
    "\n",
    "ata = []\n",
    "\n",
    "# Loop over the image files in the directory\n",
    "for file_name in os.listdir(source_dir):\n",
    "#      resize it to 50*50 pixels\n",
    "    image = Image.open(os.path.join(source_dir, file_name)).convert('L')\n",
    "\n",
    "    # Convert to grayscale\n",
    "    gray_image = image.resize((50,50))\n",
    "\n",
    "\n",
    "    # Convert the image to a numpy array and flatten it to a 1D array\n",
    "    pixels = np.array(gray_image).flatten()\n",
    "    # Add the flattened array to the list\n",
    "    data.append(pixels)\n",
    "\n",
    "# Create a pandas dataframe from the list of pixel values\n",
    "df = pd.DataFrame(data)\n",
    "df.insert(0,'label','cracked')\n",
    "\n",
    "# Save the dataframe to a CSV file\n",
    "df.to_csv(output_path, index=False)\n"
   ]
  },
  {
   "cell_type": "code",
   "execution_count": 6,
   "id": "233645d2",
   "metadata": {},
   "outputs": [],
   "source": [
    "import pandas as pd\n",
    "import numpy as np\n",
    "# Load the two CSV files into separate Pandas dataframes\n",
    "df1 = pd.read_csv(\"C:\\\\Users\\\\ANUBHAV\\\\Desktop\\\\ASSIGNMENT_DATA\\\\anubhav\\\\cracked.csv\") \n",
    "df2 = pd.read_csv(\"C:\\\\Users\\\\ANUBHAV\\\\Desktop\\\\ASSIGNMENT_DATA\\\\anubhav\\\\uncraracked.csv\") \n",
    "# TWO csv FILES ARE CREATED , ER HAVE TO MERGE THEM RANDOMLY AND MAKE ONE SINGLE FILE \n"
   ]
  },
  {
   "cell_type": "code",
   "execution_count": 7,
   "id": "566eb119",
   "metadata": {},
   "outputs": [],
   "source": [
    "# merged_df = pd.concat([df1, df2], axis=0, ignore_index=True)\n",
    "merged_df = pd.concat([df1, df2], axis=0, ignore_index=True)\n",
    "\n",
    "merged_df.to_csv(\"C:\\\\Users\\\\ANUBHAV\\\\Desktop\\\\ASSIGNMENT_DATA\\\\anubhav\\\\merged_file.csv\", index=False)"
   ]
  },
  {
   "cell_type": "code",
   "execution_count": 8,
   "id": "2fa09307",
   "metadata": {},
   "outputs": [],
   "source": [
    "\n",
    "\n",
    "# Shuffle the rows of the merged dataframe using np.random.permutation method:\n",
    "shuffled_df = merged_df.reindex(np.random.permutation(merged_df.index))\n",
    "\n"
   ]
  },
  {
   "cell_type": "markdown",
   "id": "75512102",
   "metadata": {},
   "source": [
    "# IMPORTING LIBRARIES FOR VGG16  MODEL"
   ]
  },
  {
   "cell_type": "code",
   "execution_count": 9,
   "id": "380949bc",
   "metadata": {},
   "outputs": [],
   "source": [
    "import pandas as pd\n",
    "import numpy as np\n",
    "import matplotlib.pyplot as plt\n",
    "import seaborn as sns\n",
    "from sklearn.model_selection import train_test_split\n",
    "from keras.models import Sequential\n",
    "from keras.layers import Dense, Conv2D, MaxPooling2D, Flatten, Dropout\n",
    "from keras.optimizers import Adam\n",
    "from keras.callbacks import EarlyStopping\n"
   ]
  },
  {
   "cell_type": "code",
   "execution_count": 10,
   "id": "1f28c65d",
   "metadata": {},
   "outputs": [],
   "source": [
    "#  randomly mixing the 2 CSV files\n",
    "dfg = pd.read_csv(\"C:\\\\Users\\\\ANUBHAV\\\\Desktop\\\\ASSIGNMENT_DATA\\\\anubhav\\\\merged_file.csv\")\n"
   ]
  },
  {
   "cell_type": "code",
   "execution_count": 11,
   "id": "5fc1f5d9",
   "metadata": {},
   "outputs": [],
   "source": [
    "y = dfg['label']\n",
    "X=dfg.drop(['label'],axis=1)"
   ]
  },
  {
   "cell_type": "code",
   "execution_count": 12,
   "id": "2e86c6b1",
   "metadata": {},
   "outputs": [],
   "source": [
    "X = dfg.drop('label', axis=1).values.reshape(-1, 50,50, 1)"
   ]
  },
  {
   "cell_type": "code",
   "execution_count": 13,
   "id": "36dbb51c",
   "metadata": {},
   "outputs": [
    {
     "name": "stderr",
     "output_type": "stream",
     "text": [
      "C:\\PYTHON 3.10\\lib\\site-packages\\sklearn\\preprocessing\\_encoders.py:808: FutureWarning: `sparse` was renamed to `sparse_output` in version 1.2 and will be removed in 1.4. `sparse_output` is ignored unless you leave `sparse` to its default value.\n",
      "  warnings.warn(\n"
     ]
    }
   ],
   "source": [
    "from sklearn.model_selection import train_test_split\n",
    "from sklearn.preprocessing import LabelEncoder, OneHotEncoder\n",
    "import numpy as np\n",
    "\n",
    "#  y contains categorical labels\n",
    "label_encoder = LabelEncoder()\n",
    "y_encoded = label_encoder.fit_transform(y)\n",
    "onehot_encoder = OneHotEncoder(sparse=False)\n",
    "y_onehot = onehot_encoder.fit_transform(y_encoded.reshape(-1, 1))\n",
    "\n",
    "\n",
    "\n"
   ]
  },
  {
   "cell_type": "code",
   "execution_count": 14,
   "id": "46fb3913",
   "metadata": {},
   "outputs": [],
   "source": [
    "# # Split the data into training and test sets\n",
    "X_train, X_test, y_train, y_test = train_test_split(X, y_onehot, test_size=0.2, random_state=42)"
   ]
  },
  {
   "cell_type": "code",
   "execution_count": 15,
   "id": "05444723",
   "metadata": {},
   "outputs": [],
   "source": [
    "from tensorflow.keras.utils import to_categorical\n",
    "y_train = to_categorical(y_train)\n",
    "\n",
    "y_test = to_categorical(y_test)\n"
   ]
  },
  {
   "cell_type": "code",
   "execution_count": 16,
   "id": "7bbbed49",
   "metadata": {},
   "outputs": [
    {
     "name": "stderr",
     "output_type": "stream",
     "text": [
      "C:\\PYTHON 3.10\\lib\\site-packages\\sklearn\\preprocessing\\_encoders.py:808: FutureWarning: `sparse` was renamed to `sparse_output` in version 1.2 and will be removed in 1.4. `sparse_output` is ignored unless you leave `sparse` to its default value.\n",
      "  warnings.warn(\n"
     ]
    },
    {
     "name": "stdout",
     "output_type": "stream",
     "text": [
      "Epoch 1/10\n",
      "375/375 [==============================] - 90s 238ms/step - loss: 0.7478 - accuracy: 0.6749 - val_loss: 0.5826 - val_accuracy: 0.7108\n",
      "Epoch 2/10\n",
      "375/375 [==============================] - 94s 251ms/step - loss: 0.5261 - accuracy: 0.7238 - val_loss: 0.5865 - val_accuracy: 0.7114\n",
      "Epoch 3/10\n",
      "375/375 [==============================] - 95s 253ms/step - loss: 0.5034 - accuracy: 0.7348 - val_loss: 0.5655 - val_accuracy: 0.7198\n",
      "Epoch 4/10\n",
      "375/375 [==============================] - 94s 251ms/step - loss: 0.4770 - accuracy: 0.7576 - val_loss: 0.5650 - val_accuracy: 0.7208\n",
      "Epoch 5/10\n",
      "375/375 [==============================] - 96s 255ms/step - loss: 0.4617 - accuracy: 0.7627 - val_loss: 0.5890 - val_accuracy: 0.7214\n",
      "Epoch 6/10\n",
      "375/375 [==============================] - 94s 250ms/step - loss: 0.4448 - accuracy: 0.7726 - val_loss: 0.6025 - val_accuracy: 0.7178\n",
      "Epoch 7/10\n",
      "375/375 [==============================] - 97s 260ms/step - loss: 0.4377 - accuracy: 0.7811 - val_loss: 0.6248 - val_accuracy: 0.7211\n",
      "Epoch 8/10\n",
      "375/375 [==============================] - 93s 249ms/step - loss: 0.4266 - accuracy: 0.7876 - val_loss: 0.6628 - val_accuracy: 0.7111\n",
      "Epoch 9/10\n",
      "375/375 [==============================] - 94s 250ms/step - loss: 0.4182 - accuracy: 0.7889 - val_loss: 0.6559 - val_accuracy: 0.7211\n",
      "Epoch 10/10\n",
      "375/375 [==============================] - 94s 250ms/step - loss: 0.4063 - accuracy: 0.7964 - val_loss: 0.6958 - val_accuracy: 0.7181\n",
      "94/94 [==============================] - 18s 194ms/step - loss: 0.6958 - accuracy: 0.7181\n",
      "Test loss: 0.6957976222038269\n",
      "Test accuracy: 0.7181028723716736\n"
     ]
    }
   ],
   "source": [
    "import numpy as np\n",
    "import pandas as pd\n",
    "from keras.applications.vgg16 import VGG16\n",
    "from keras.models import Model\n",
    "from keras.layers import Dense, Flatten, Conv2D, MaxPooling2D\n",
    "from sklearn.model_selection import train_test_split\n",
    "from sklearn.preprocessing import LabelEncoder, OneHotEncoder\n",
    "\n",
    "# Load data from CSV file\n",
    "data = pd.read_csv('C:\\\\Users\\\\ANUBHAV\\\\Desktop\\\\ASSIGNMENT_DATA\\\\anubhav\\\\merged_file.csv')\n",
    "X_gray = data.iloc[:, 1:].values.reshape(-1, 50,50, 1).astype('float32') # reshape to (n_samples, height, width, channels)\n",
    "X = np.concatenate([X_gray]*3, axis=-1) # duplicate grayscale channel to create pseudo-RGB images\n",
    "y = data.iloc[:, 0].values\n",
    "\n",
    "# Convert string labels to numeric labels using label encoding\n",
    "le = LabelEncoder()\n",
    "y = le.fit_transform(y)\n",
    "\n",
    "# Convert numeric labels to one-hot encoding\n",
    "ohe = OneHotEncoder(sparse=False)\n",
    "y = ohe.fit_transform(y.reshape(-1, 1))\n",
    "\n",
    "# Split data into train and test sets\n",
    "X_train, X_test, y_train, y_test = train_test_split(X, y, test_size=0.2)\n",
    "\n",
    "# Load pre-trained VGG16 model\n",
    "base_model = VGG16(weights='imagenet', include_top=False, input_shape=(50,50, 3))\n",
    "\n",
    "# Add custom top layers for grayscale image classification\n",
    "x = base_model.output\n",
    "x = Flatten()(x)\n",
    "x = Dense(256, activation='relu')(x)\n",
    "x = Dense(128, activation='relu')(x)\n",
    "predictions = Dense(len(le.classes_), activation='softmax')(x)\n",
    "\n",
    "# Create a new model with custom top layers\n",
    "model = Model(inputs=base_model.input, outputs=predictions)\n",
    "\n",
    "# Freeze pre-trained layers\n",
    "for layer in base_model.layers:\n",
    "    layer.trainable = False\n",
    "\n",
    "# Compile model\n",
    "model.compile(optimizer='adam', loss='categorical_crossentropy', metrics=['accuracy'])\n",
    "\n",
    "# Train model\n",
    "model.fit(X_train, y_train, batch_size=32, epochs=10, validation_data=(X_test, y_test))\n",
    "\n",
    "# Evaluate model on test set\n",
    "score = model.evaluate(X_test, y_test)\n",
    "print('Test loss:', score[0])\n",
    "print('Test accuracy:', score[1])\n"
   ]
  },
  {
   "cell_type": "markdown",
   "id": "7e4e1cbe",
   "metadata": {},
   "source": [
    "# Test loss: 0.6957976222038269    ,  Test accuracy: 0.7181028723716736\n"
   ]
  },
  {
   "cell_type": "markdown",
   "id": "8698d295",
   "metadata": {},
   "source": [
    "# calculataing F1 score"
   ]
  },
  {
   "cell_type": "code",
   "execution_count": 2,
   "id": "1e0c58d1",
   "metadata": {},
   "outputs": [
    {
     "name": "stdout",
     "output_type": "stream",
     "text": [
      "94/94 [==============================] - 35s 369ms/step\n",
      "F1 score: 0.7459576926232551\n"
     ]
    }
   ],
   "source": [
    "from sklearn.metrics import f1_score\n",
    "\n",
    "# Predict labels for test set\n",
    "y_pred = model.predict(X_test)\n",
    "y_pred = np.argmax(y_pred, axis=1)\n",
    "y_test = np.argmax(y_test, axis=1)\n",
    "\n",
    "# Calculate F1 score\n",
    "f1 = f1_score(y_test, y_pred, average='weighted')\n",
    "print('F1 score:', f1)\n"
   ]
  },
  {
   "cell_type": "markdown",
   "id": "5ee4144b",
   "metadata": {},
   "source": [
    "# F1 score: 0.745\n"
   ]
  },
  {
   "cell_type": "code",
   "execution_count": 17,
   "id": "3b2056b9",
   "metadata": {},
   "outputs": [],
   "source": [
    "# Clearing the session frees up resources and ensures that the next training or testing session starts with a clean state.\n",
    "from keras import backend as K\n",
    "K.clear_session()\n"
   ]
  },
  {
   "cell_type": "code",
   "execution_count": 18,
   "id": "89a453bd",
   "metadata": {},
   "outputs": [
    {
     "data": {
      "text/plain": [
       "2320"
      ]
     },
     "execution_count": 18,
     "metadata": {},
     "output_type": "execute_result"
    }
   ],
   "source": [
    "import gc\n",
    "gc.collect()\n",
    "# gc stands for Garbage Collector, which is a mechanism in Python that automatically frees up memory that is no longer \n",
    "# being used by the program.\n"
   ]
  },
  {
   "cell_type": "code",
   "execution_count": 19,
   "id": "3e5a3c8c",
   "metadata": {},
   "outputs": [],
   "source": [
    "#  saving our VGG model \n",
    "model.save('vgg_model.h16')  \n"
   ]
  },
  {
   "cell_type": "code",
   "execution_count": 20,
   "id": "a567e501",
   "metadata": {},
   "outputs": [],
   "source": [
    "from keras.models import load_model\n",
    "\n",
    "model = load_model('vgg_model.h16')\n"
   ]
  },
  {
   "cell_type": "code",
   "execution_count": 21,
   "id": "8e1a421f",
   "metadata": {},
   "outputs": [],
   "source": [
    "# lets convert the prediction images into the grey scale\n",
    "import os\n",
    "import numpy as np\n",
    "import pandas as pd\n",
    "from PIL import Image\n",
    "\n",
    " \n",
    "# Set the source directory for the images and the output CSV file path\n",
    "source_dir = 'C:\\\\Users\\\\ANUBHAV\\\\Desktop\\\\ASSIGNMENT_DATA\\\\test'\n",
    "output_path = 'C:\\\\Users\\\\ANUBHAV\\\\Desktop\\\\ASSIGNMENT_DATA\\\\anubhav\\\\test_data.csv'\n",
    "\n",
    "# Initialize an empty list to store the flattened pixel values\n",
    "data = []\n",
    "   \n",
    "# Loop over the image files in the directory\n",
    "for file_name in os.listdir(source_dir):\n",
    "    # Open the image and resize it to 50*50 pixels\n",
    "    image = Image.open(os.path.join(source_dir, file_name)).convert('L')\n",
    "\n",
    "    # Convert the image to grayscale\n",
    "    gray_image = image.resize((50,50))\n",
    "\n",
    "\n",
    "    # Convert the image to a numpy array and flatten it to a 1D array\n",
    "    pixels = np.array(gray_image).flatten()\n",
    "    # Add the flattened array to the list\n",
    "    data.append(pixels)\n",
    "\n",
    "# Create a pandas dataframe from the list of pixel values\n",
    "df = pd.DataFrame(data)\n",
    "\n",
    "\n",
    "# Save the dataframe to a CSV file\n",
    "df.to_csv(output_path, index=False)\n"
   ]
  },
  {
   "cell_type": "code",
   "execution_count": 22,
   "id": "de0596b9",
   "metadata": {},
   "outputs": [],
   "source": [
    "\n",
    "\n",
    "# Load the saved model\n",
    "model = load_model('vgg_model.h16')\n"
   ]
  },
  {
   "cell_type": "code",
   "execution_count": 25,
   "id": "a3fb50b5",
   "metadata": {},
   "outputs": [],
   "source": [
    "# Load the test data from CSV file\n",
    "data = pd.read_csv('C:\\\\Users\\\\ANUBHAV\\\\Desktop\\\\ASSIGNMENT_DATA\\\\anubhav\\\\test_data.csv')\n",
    "X_gray = data.iloc[:,0:].values.reshape(-1,50,50,1)# reshape to (n_samples, height, width, channels)\n",
    "X = np.concatenate([X_gray]*3, axis=-1) "
   ]
  },
  {
   "cell_type": "code",
   "execution_count": 26,
   "id": "10fcc8a1",
   "metadata": {},
   "outputs": [],
   "source": [
    "\n",
    "\n",
    "# Set the source directory for the images and the output CSV file path\n",
    "source_dir = 'C:\\\\Users\\\\ANUBHAV\\\\Desktop\\\\ASSIGNMENT_DATA\\\\test'\n",
    "output_path = 'C:\\\\Users\\\\ANUBHAV\\\\Desktop\\\\ASSIGNMENT_DATA\\\\anubhav\\\\testing_new'\n",
    "\n",
    "# Initialize an empty list to store the flattened pixel values\n",
    "data = []\n",
    "\n",
    "# Loop over the image files in the directory\n",
    "for i in range(1, 2001):\n",
    "    # Open the image and resize it to 50,50 pixels\n",
    "    file_name = f'{i}.jpg'\n",
    "    image = Image.open(os.path.join(source_dir, file_name)).convert('L')\n",
    "\n",
    "    # Convert the image to grayscale\n",
    "    gray_image = image.resize((50,50))\n",
    "\n",
    "    # Convert the image to a numpy array and flatten it to a 1D array\n",
    "    pixels = np.array(gray_image).flatten()\n",
    "    # Add the flattened array to the list\n",
    "    data.append(pixels)\n",
    "\n"
   ]
  },
  {
   "cell_type": "code",
   "execution_count": 27,
   "id": "973078b2",
   "metadata": {},
   "outputs": [],
   "source": [
    "# Create a pandas dataframe from the list of pixel values\n",
    "df = pd.DataFrame(data)\n",
    "df.insert(0,'Image',['{}.jpg'.format(i) for i in range(1,2001)])\n",
    "\n",
    "# Load the model\n",
    "model = load_model('vgg_model.h16')\n",
    "\n",
    "# Reshape the data for input to the model\n",
    "X_gray = df.iloc[:,1:].values.reshape(-1,50,50,1)\n",
    "X = np.concatenate([X_gray]*3, axis=-1)\n",
    "\n",
    "\n"
   ]
  },
  {
   "cell_type": "code",
   "execution_count": 28,
   "id": "5fb401ba",
   "metadata": {},
   "outputs": [
    {
     "name": "stdout",
     "output_type": "stream",
     "text": [
      "63/63 [==============================] - 10s 153ms/step\n"
     ]
    }
   ],
   "source": [
    "# Making final  predictions on the test data\n",
    "predictions = model.predict(X)\n",
    "labels = ['Cracked' if prediction[0] > prediction[1] else 'Uncracked' for prediction in predictions]\n",
    "\n",
    "# Create a Pandas DataFrame with the predictions\n",
    "df = pd.DataFrame({'Image': df['Image'], 'class': labels})\n",
    "\n",
    "# Save the predictions to a CSV file\n",
    "df.to_csv('C:\\\\Users\\\\ANUBHAV\\\\Desktop\\\\ASSIGNMENT_DATA\\\\anubhav\\\\my_predictions.csv', index=False)"
   ]
  },
  {
   "cell_type": "code",
   "execution_count": 1,
   "id": "83d22540",
   "metadata": {},
   "outputs": [],
   "source": [
    "# my_predictions.csv file contains prediction made by our model."
   ]
  },
  {
   "cell_type": "code",
   "execution_count": 4,
   "id": "f356950c",
   "metadata": {},
   "outputs": [],
   "source": [
    "import pandas as pd\n",
    "import seaborn as sns\n",
    "\n",
    "dk = pd.read_csv('C:\\\\Users\\\\ANUBHAV\\\\Desktop\\\\ASSIGNMENT_DATA\\\\anubhav\\\\my_predictions.csv')\n"
   ]
  },
  {
   "cell_type": "code",
   "execution_count": 5,
   "id": "adf8c170",
   "metadata": {},
   "outputs": [
    {
     "data": {
      "image/png": "[encoded data removed]",
      "text/plain": [
       "<Figure size 640x480 with 1 Axes>"
      ]
     },
     "metadata": {},
     "output_type": "display_data"
    }
   ],
   "source": [
    "import matplotlib.pyplot as plt\n",
    "\n",
    "# Get the counts of values in the desired column\n",
    "counts = dk['class'].value_counts()\n",
    "\n",
    "# Create a pie chart with the counts\n",
    "plt.pie(counts.values, labels=counts.index, wedgeprops={'linewidth': 3, 'edgecolor': 'white'})\n",
    "plt.show()\n"
   ]
  },
  {
   "cell_type": "code",
   "execution_count": null,
   "id": "4fa6e7ad",
   "metadata": {},
   "outputs": [],
   "source": []
  }
 ],
 "metadata": {
  "kernelspec": {
   "display_name": "Python 3 (ipykernel)",
   "language": "python",
   "name": "python3"
  },
  "language_info": {
   "codemirror_mode": {
    "name": "ipython",
    "version": 3
   },
   "file_extension": ".py",
   "mimetype": "text/x-python",
   "name": "python",
   "nbconvert_exporter": "python",
   "pygments_lexer": "ipython3",
   "version": "3.10.5"
  }
 },
 "nbformat": 4,
 "nbformat_minor": 5
}
